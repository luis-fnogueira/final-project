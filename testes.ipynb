{
 "cells": [
  {
   "cell_type": "markdown",
   "metadata": {},
   "source": [
    "# Imports"
   ]
  },
  {
   "cell_type": "code",
   "execution_count": 1,
   "metadata": {},
   "outputs": [],
   "source": [
    "import requests\n",
    "import json\n",
    "import pandas as pd\n",
    "import psycopg2\n",
    "from db_manipulation import Postgres_exec"
   ]
  },
  {
   "cell_type": "markdown",
   "metadata": {},
   "source": [
    "# JSON"
   ]
  },
  {
   "cell_type": "code",
   "execution_count": null,
   "metadata": {},
   "outputs": [],
   "source": [
    "# Getting response from Mercado Bitcoin's API\n",
    "response_API = requests.get('https://www.mercadobitcoin.net/api/BTC/day-summary/2022/7/5/')"
   ]
  },
  {
   "cell_type": "code",
   "execution_count": null,
   "metadata": {},
   "outputs": [],
   "source": [
    "# Adding the response to a variable\n",
    "data = response_API.text"
   ]
  },
  {
   "cell_type": "code",
   "execution_count": null,
   "metadata": {},
   "outputs": [],
   "source": [
    "data"
   ]
  },
  {
   "cell_type": "code",
   "execution_count": null,
   "metadata": {},
   "outputs": [],
   "source": [
    "type(data)"
   ]
  },
  {
   "cell_type": "code",
   "execution_count": null,
   "metadata": {},
   "outputs": [],
   "source": [
    "# Converting reponse to JSON standard\n",
    "data_json = json.loads(data)"
   ]
  },
  {
   "cell_type": "code",
   "execution_count": null,
   "metadata": {},
   "outputs": [],
   "source": [
    "type(data_json)"
   ]
  },
  {
   "cell_type": "code",
   "execution_count": null,
   "metadata": {},
   "outputs": [],
   "source": [
    "# Printing in JSON format\n",
    "data_json"
   ]
  },
  {
   "cell_type": "code",
   "execution_count": null,
   "metadata": {},
   "outputs": [],
   "source": [
    "# creating Pandas dataframe from the JSON using \"json_normalize\" method\n",
    "df = pd.json_normalize(data_json)"
   ]
  },
  {
   "cell_type": "code",
   "execution_count": null,
   "metadata": {},
   "outputs": [],
   "source": [
    "# Printing dataframe\n",
    "df.head()"
   ]
  },
  {
   "cell_type": "markdown",
   "metadata": {},
   "source": [
    "# Database"
   ]
  },
  {
   "cell_type": "code",
   "execution_count": null,
   "metadata": {},
   "outputs": [],
   "source": [
    "# Creating connection to Postgres database on local machine\n",
    "conn = psycopg2.connect(\n",
    "    database='projeto-pos', user='postgres',\n",
    "    password='123456', host='localhost', port='5433'\n",
    ")"
   ]
  },
  {
   "cell_type": "code",
   "execution_count": null,
   "metadata": {},
   "outputs": [],
   "source": [
    "#Setting auto commit true\n",
    "conn.autocommit = True"
   ]
  },
  {
   "cell_type": "code",
   "execution_count": null,
   "metadata": {},
   "outputs": [],
   "source": [
    "#Creating a cursor object using the cursor() method\n",
    "cursor = conn.cursor()"
   ]
  },
  {
   "cell_type": "code",
   "execution_count": null,
   "metadata": {},
   "outputs": [],
   "source": [
    "#Retrieving data\n",
    "cursor.execute('''SELECT * from projeto.bitcoin_history''')"
   ]
  },
  {
   "cell_type": "code",
   "execution_count": null,
   "metadata": {},
   "outputs": [],
   "source": [
    "#Fetching 1st row from the table\n",
    "result = cursor.fetchone();\n",
    "print(result)"
   ]
  },
  {
   "cell_type": "code",
   "execution_count": null,
   "metadata": {},
   "outputs": [],
   "source": [
    "postgres_insert_query = \"\"\" INSERT INTO projeto.bitcoin_history (\"date_summary\",\n",
    "                                                                \"opening\",\n",
    "                                                                \"closing\",\n",
    "                                                                \"lowest\",\n",
    "                                                                \"highest\", \n",
    "                                                                \"volume\",\n",
    "                                                                \"quantity\", \n",
    "                                                                \"amount\",\n",
    "                                                                \"avg_price\") \n",
    "                                                                VALUES \n",
    "                                                                (%s ,%s ,%s ,%s ,%s ,%s ,%s ,%s ,%s)\"\"\""
   ]
  },
  {
   "cell_type": "code",
   "execution_count": null,
   "metadata": {},
   "outputs": [],
   "source": [
    "# Creating a sample record to input\n",
    "record_to_insert = ('2000-05-07', 123456.12345678, 123456.12345678, 123456.12345678, 123456.12345678,\n",
    "                    12345678.12345678, 123.12345678, 10000, 123456.12345678)"
   ]
  },
  {
   "cell_type": "code",
   "execution_count": null,
   "metadata": {},
   "outputs": [],
   "source": [
    "cursor = Postgres_exec.insert_into(values=record_to_insert)"
   ]
  },
  {
   "cell_type": "code",
   "execution_count": null,
   "metadata": {},
   "outputs": [],
   "source": [
    "# Executing the query. First argument is the SQL itself and the second argument is the data to be inputted.\n",
    "cursor.execute(postgres_insert_query, record_to_insert)"
   ]
  },
  {
   "cell_type": "code",
   "execution_count": null,
   "metadata": {},
   "outputs": [],
   "source": [
    "# Commiting the query\n",
    "conn.commit()"
   ]
  },
  {
   "cell_type": "code",
   "execution_count": null,
   "metadata": {},
   "outputs": [],
   "source": [
    "#Retrieving data\n",
    "cursor.execute('''SELECT * from projeto.bitcoin_history''')"
   ]
  },
  {
   "cell_type": "code",
   "execution_count": null,
   "metadata": {},
   "outputs": [],
   "source": [
    "# Assigning the SELECT to result variable\n",
    "result = cursor.fetchall()"
   ]
  },
  {
   "cell_type": "code",
   "execution_count": null,
   "metadata": {},
   "outputs": [],
   "source": [
    "# Printing result. As we can see, our query has run successfully.\n",
    "print(result)"
   ]
  },
  {
   "cell_type": "markdown",
   "metadata": {},
   "source": [
    "# Tests DB functions"
   ]
  },
  {
   "cell_type": "code",
   "execution_count": 2,
   "metadata": {},
   "outputs": [],
   "source": [
    "db = Postgres_exec()"
   ]
  },
  {
   "cell_type": "code",
   "execution_count": 4,
   "metadata": {},
   "outputs": [],
   "source": [
    "# Creating a sample record to input\n",
    "record_to_insert2 = ('2003-05-07', 123456.12345678, 123456.12345678, 123456.12345678, 123456.12345678,\n",
    "                    12345678.12345678, 123.12345678, 10000, 123456.12345678)"
   ]
  },
  {
   "cell_type": "code",
   "execution_count": 5,
   "metadata": {},
   "outputs": [],
   "source": [
    "db.insert_into(values=record_to_insert2)"
   ]
  },
  {
   "cell_type": "code",
   "execution_count": 6,
   "metadata": {},
   "outputs": [
    {
     "name": "stdout",
     "output_type": "stream",
     "text": [
      "+----------------+-----------+-----------+----------+-----------+-------------+------------+----------+-------------+\n",
      "| date_summary   |   opening |   closing |   lowest |   highest |      volume |   quantity |   amount |   avg_price |\n",
      "|----------------+-----------+-----------+----------+-----------+-------------+------------+----------+-------------|\n",
      "| 1999-05-07     |    123456 |    123456 |   123456 |    123456 | 1.23457e+07 |    123.123 |    10000 |      123456 |\n",
      "| 2000-05-07     |    123456 |    123456 |   123456 |    123456 | 1.23457e+07 |    123.123 |    10000 |      123456 |\n",
      "| 2001-05-07     |    123456 |    123456 |   123456 |    123456 | 1.23457e+07 |    123.123 |    10000 |      123456 |\n",
      "| 2002-05-07     |    123456 |    123456 |   123456 |    123456 | 1.23457e+07 |    123.123 |    10000 |      123456 |\n",
      "| 2003-05-07     |    123456 |    123456 |   123456 |    123456 | 1.23457e+07 |    123.123 |    10000 |      123456 |\n",
      "+----------------+-----------+-----------+----------+-----------+-------------+------------+----------+-------------+\n"
     ]
    }
   ],
   "source": [
    "db.select_all()"
   ]
  }
 ],
 "metadata": {
  "kernelspec": {
   "display_name": "Python 3.8.10 64-bit",
   "language": "python",
   "name": "python3"
  },
  "language_info": {
   "codemirror_mode": {
    "name": "ipython",
    "version": 3
   },
   "file_extension": ".py",
   "mimetype": "text/x-python",
   "name": "python",
   "nbconvert_exporter": "python",
   "pygments_lexer": "ipython3",
   "version": "3.8.10"
  },
  "orig_nbformat": 4,
  "vscode": {
   "interpreter": {
    "hash": "916dbcbb3f70747c44a77c7bcd40155683ae19c65e1c03b4aa3499c5328201f1"
   }
  }
 },
 "nbformat": 4,
 "nbformat_minor": 2
}
