{
 "cells": [
  {
   "cell_type": "markdown",
   "metadata": {},
   "source": [
    "# JSON"
   ]
  },
  {
   "cell_type": "code",
   "execution_count": 1,
   "metadata": {},
   "outputs": [],
   "source": [
    "import requests\n",
    "import json\n",
    "import pandas as pd\n",
    "import psycopg2"
   ]
  },
  {
   "cell_type": "code",
   "execution_count": 2,
   "metadata": {},
   "outputs": [],
   "source": [
    "# Getting response from Mercado Bitcoin's API\n",
    "response_API = requests.get('https://www.mercadobitcoin.net/api/BTC/day-summary/2022/7/5/')"
   ]
  },
  {
   "cell_type": "code",
   "execution_count": 3,
   "metadata": {},
   "outputs": [],
   "source": [
    "# Adding the response to a variable\n",
    "data = response_API.text"
   ]
  },
  {
   "cell_type": "code",
   "execution_count": 8,
   "metadata": {},
   "outputs": [
    {
     "data": {
      "text/plain": [
       "'{\"date\":\"2022-07-05\",\"opening\":107350,\"closing\":106617.99998999,\"lowest\":104000,\"highest\":111158.81145816,\"volume\":\"8949876.37974790\",\"quantity\":\"83.18839928\",\"amount\":5257,\"avg_price\":107585.63041493}'"
      ]
     },
     "execution_count": 8,
     "metadata": {},
     "output_type": "execute_result"
    }
   ],
   "source": [
    "data"
   ]
  },
  {
   "cell_type": "code",
   "execution_count": 10,
   "metadata": {},
   "outputs": [
    {
     "data": {
      "text/plain": [
       "str"
      ]
     },
     "execution_count": 10,
     "metadata": {},
     "output_type": "execute_result"
    }
   ],
   "source": [
    "type(data)"
   ]
  },
  {
   "cell_type": "code",
   "execution_count": 5,
   "metadata": {},
   "outputs": [],
   "source": [
    "# Converting reponse to JSON standard\n",
    "data_json = json.loads(data)"
   ]
  },
  {
   "cell_type": "code",
   "execution_count": 9,
   "metadata": {},
   "outputs": [
    {
     "data": {
      "text/plain": [
       "dict"
      ]
     },
     "execution_count": 9,
     "metadata": {},
     "output_type": "execute_result"
    }
   ],
   "source": [
    "type(data_json)"
   ]
  },
  {
   "cell_type": "code",
   "execution_count": 6,
   "metadata": {},
   "outputs": [
    {
     "data": {
      "text/plain": [
       "{'date': '2022-07-05',\n",
       " 'opening': 107350,\n",
       " 'closing': 106617.99998999,\n",
       " 'lowest': 104000,\n",
       " 'highest': 111158.81145816,\n",
       " 'volume': '8949876.37974790',\n",
       " 'quantity': '83.18839928',\n",
       " 'amount': 5257,\n",
       " 'avg_price': 107585.63041493}"
      ]
     },
     "execution_count": 6,
     "metadata": {},
     "output_type": "execute_result"
    }
   ],
   "source": [
    "# Printing in JSON format\n",
    "data_json"
   ]
  },
  {
   "cell_type": "code",
   "execution_count": 9,
   "metadata": {},
   "outputs": [],
   "source": [
    "# creating Pandas dataframe from the JSON using \"json_normalize\" method\n",
    "df = pd.json_normalize(data_json)"
   ]
  },
  {
   "cell_type": "code",
   "execution_count": 11,
   "metadata": {},
   "outputs": [
    {
     "data": {
      "text/html": [
       "<div>\n",
       "<style scoped>\n",
       "    .dataframe tbody tr th:only-of-type {\n",
       "        vertical-align: middle;\n",
       "    }\n",
       "\n",
       "    .dataframe tbody tr th {\n",
       "        vertical-align: top;\n",
       "    }\n",
       "\n",
       "    .dataframe thead th {\n",
       "        text-align: right;\n",
       "    }\n",
       "</style>\n",
       "<table border=\"1\" class=\"dataframe\">\n",
       "  <thead>\n",
       "    <tr style=\"text-align: right;\">\n",
       "      <th></th>\n",
       "      <th>date</th>\n",
       "      <th>opening</th>\n",
       "      <th>closing</th>\n",
       "      <th>lowest</th>\n",
       "      <th>highest</th>\n",
       "      <th>volume</th>\n",
       "      <th>quantity</th>\n",
       "      <th>amount</th>\n",
       "      <th>avg_price</th>\n",
       "    </tr>\n",
       "  </thead>\n",
       "  <tbody>\n",
       "    <tr>\n",
       "      <th>0</th>\n",
       "      <td>2022-07-05</td>\n",
       "      <td>107350</td>\n",
       "      <td>106617.99999</td>\n",
       "      <td>104000</td>\n",
       "      <td>111158.811458</td>\n",
       "      <td>8949876.37974790</td>\n",
       "      <td>83.18839928</td>\n",
       "      <td>5257</td>\n",
       "      <td>107585.630415</td>\n",
       "    </tr>\n",
       "  </tbody>\n",
       "</table>\n",
       "</div>"
      ],
      "text/plain": [
       "         date  opening       closing  lowest        highest            volume  \\\n",
       "0  2022-07-05   107350  106617.99999  104000  111158.811458  8949876.37974790   \n",
       "\n",
       "      quantity  amount      avg_price  \n",
       "0  83.18839928    5257  107585.630415  "
      ]
     },
     "execution_count": 11,
     "metadata": {},
     "output_type": "execute_result"
    }
   ],
   "source": [
    "# Printing dataframe\n",
    "df.head()"
   ]
  },
  {
   "cell_type": "markdown",
   "metadata": {},
   "source": [
    "# Database"
   ]
  },
  {
   "cell_type": "code",
   "execution_count": 28,
   "metadata": {},
   "outputs": [],
   "source": [
    "# Creating connection to Postgres database on local machine\n",
    "conn = psycopg2.connect(\n",
    "    database='projeto-pos', user='postgres',\n",
    "    password='123456', host='localhost', port='5433'\n",
    ")"
   ]
  },
  {
   "cell_type": "code",
   "execution_count": 29,
   "metadata": {},
   "outputs": [],
   "source": [
    "#Setting auto commit true\n",
    "conn.autocommit = True"
   ]
  },
  {
   "cell_type": "code",
   "execution_count": 30,
   "metadata": {},
   "outputs": [],
   "source": [
    "#Creating a cursor object using the cursor() method\n",
    "cursor = conn.cursor()"
   ]
  },
  {
   "cell_type": "code",
   "execution_count": 45,
   "metadata": {},
   "outputs": [],
   "source": [
    "#Retrieving data\n",
    "cursor.execute('''SELECT * from projeto.bitcoin_history''')"
   ]
  },
  {
   "cell_type": "code",
   "execution_count": 46,
   "metadata": {},
   "outputs": [
    {
     "name": "stdout",
     "output_type": "stream",
     "text": [
      "(datetime.date(1999, 5, 7), Decimal('123456.12345678'), Decimal('123456.12345678'), Decimal('123456.12345678'), Decimal('123456.12345678'), Decimal('12345678.12345678'), Decimal('123.12345678'), 10000, Decimal('123456.12345678'))\n"
     ]
    }
   ],
   "source": [
    "#Fetching 1st row from the table\n",
    "result = cursor.fetchone();\n",
    "print(result)"
   ]
  },
  {
   "cell_type": "code",
   "execution_count": 82,
   "metadata": {},
   "outputs": [],
   "source": [
    "postgres_insert_query = \"\"\" INSERT INTO projeto.bitcoin_history (\"date_summary\",\n",
    "                                                                \"opening\",\n",
    "                                                                \"closing\",\n",
    "                                                                \"lowest\",\n",
    "                                                                \"highest\", \n",
    "                                                                \"volume\",\n",
    "                                                                \"quantity\", \n",
    "                                                                \"amount\",\n",
    "                                                                \"avg_price\") \n",
    "                                                                VALUES \n",
    "                                                                (%s ,%s ,%s ,%s ,%s ,%s ,%s ,%s ,%s)\"\"\""
   ]
  },
  {
   "cell_type": "code",
   "execution_count": 83,
   "metadata": {},
   "outputs": [],
   "source": [
    "# Creating a sample record to input\n",
    "record_to_insert = ('2000-05-07', 123456.12345678, 123456.12345678, 123456.12345678, 123456.12345678,\n",
    "                    12345678.12345678, 123.12345678, 10000, 123456.12345678)"
   ]
  },
  {
   "cell_type": "code",
   "execution_count": 84,
   "metadata": {},
   "outputs": [],
   "source": [
    "# Executing the query. First argument is the SQL itself and the second argument is the data to be inputted.\n",
    "cursor.execute(postgres_insert_query, record_to_insert)"
   ]
  },
  {
   "cell_type": "code",
   "execution_count": 88,
   "metadata": {},
   "outputs": [],
   "source": [
    "# Commiting the query\n",
    "conn.commit()"
   ]
  },
  {
   "cell_type": "code",
   "execution_count": 90,
   "metadata": {},
   "outputs": [],
   "source": [
    "#Retrieving data\n",
    "cursor.execute('''SELECT * from projeto.bitcoin_history''')"
   ]
  },
  {
   "cell_type": "code",
   "execution_count": 91,
   "metadata": {},
   "outputs": [],
   "source": [
    "# Assigning the SELECT to result variable\n",
    "result = cursor.fetchall()"
   ]
  },
  {
   "cell_type": "code",
   "execution_count": 92,
   "metadata": {},
   "outputs": [
    {
     "name": "stdout",
     "output_type": "stream",
     "text": [
      "[(datetime.date(1999, 5, 7), Decimal('123456.12345678'), Decimal('123456.12345678'), Decimal('123456.12345678'), Decimal('123456.12345678'), Decimal('12345678.12345678'), Decimal('123.12345678'), 10000, Decimal('123456.12345678')), (datetime.date(2000, 5, 7), Decimal('123456.12345678'), Decimal('123456.12345678'), Decimal('123456.12345678'), Decimal('123456.12345678'), Decimal('12345678.12345678'), Decimal('123.12345678'), 10000, Decimal('123456.12345678'))]\n"
     ]
    }
   ],
   "source": [
    "# Printing result. As we can see, our query has run successfully.\n",
    "print(result)"
   ]
  }
 ],
 "metadata": {
  "kernelspec": {
   "display_name": "Python 3.8.10 64-bit",
   "language": "python",
   "name": "python3"
  },
  "language_info": {
   "codemirror_mode": {
    "name": "ipython",
    "version": 3
   },
   "file_extension": ".py",
   "mimetype": "text/x-python",
   "name": "python",
   "nbconvert_exporter": "python",
   "pygments_lexer": "ipython3",
   "version": "3.8.10"
  },
  "orig_nbformat": 4,
  "vscode": {
   "interpreter": {
    "hash": "916dbcbb3f70747c44a77c7bcd40155683ae19c65e1c03b4aa3499c5328201f1"
   }
  }
 },
 "nbformat": 4,
 "nbformat_minor": 2
}
